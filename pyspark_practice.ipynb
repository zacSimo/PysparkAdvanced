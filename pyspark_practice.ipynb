{
  "nbformat": 4,
  "nbformat_minor": 0,
  "metadata": {
    "colab": {
      "provenance": [],
      "gpuType": "V28",
      "authorship_tag": "ABX9TyMDWWOylEvPtMGj0RX2ICMV",
      "include_colab_link": true
    },
    "kernelspec": {
      "name": "python3",
      "display_name": "Python 3"
    },
    "language_info": {
      "name": "python"
    },
    "accelerator": "TPU"
  },
  "cells": [
    {
      "cell_type": "markdown",
      "metadata": {
        "id": "view-in-github",
        "colab_type": "text"
      },
      "source": [
        "<a href=\"https://colab.research.google.com/github/zacSimo/PysparkAdvanced/blob/main/pyspark_practice.ipynb\" target=\"_parent\"><img src=\"https://colab.research.google.com/assets/colab-badge.svg\" alt=\"Open In Colab\"/></a>"
      ]
    },
    {
      "cell_type": "code",
      "source": [
        "! pip install pyspark"
      ],
      "metadata": {
        "colab": {
          "base_uri": "https://localhost:8080/"
        },
        "id": "IFxznl6gtYxV",
        "outputId": "2d8699bb-2427-49a4-cb5a-8a5d17e3372f"
      },
      "execution_count": null,
      "outputs": [
        {
          "output_type": "stream",
          "name": "stdout",
          "text": [
            "Collecting pyspark\n",
            "  Downloading pyspark-3.5.3.tar.gz (317.3 MB)\n",
            "\u001b[2K     \u001b[90m━━━━━━━━━━━━━━━━━━━━━━━━━━━━━━━━━━━━━━━━\u001b[0m \u001b[32m317.3/317.3 MB\u001b[0m \u001b[31m2.3 MB/s\u001b[0m eta \u001b[36m0:00:00\u001b[0m\n",
            "\u001b[?25h  Preparing metadata (setup.py) ... \u001b[?25l\u001b[?25hdone\n",
            "Collecting py4j==0.10.9.7 (from pyspark)\n",
            "  Downloading py4j-0.10.9.7-py2.py3-none-any.whl.metadata (1.5 kB)\n",
            "Downloading py4j-0.10.9.7-py2.py3-none-any.whl (200 kB)\n",
            "\u001b[2K   \u001b[90m━━━━━━━━━━━━━━━━━━━━━━━━━━━━━━━━━━━━━━━━\u001b[0m \u001b[32m200.5/200.5 kB\u001b[0m \u001b[31m13.0 MB/s\u001b[0m eta \u001b[36m0:00:00\u001b[0m\n",
            "\u001b[?25hBuilding wheels for collected packages: pyspark\n",
            "  Building wheel for pyspark (setup.py) ... \u001b[?25l\u001b[?25hdone\n",
            "  Created wheel for pyspark: filename=pyspark-3.5.3-py2.py3-none-any.whl size=317840625 sha256=35bd5f42fd994f7d2e5312f83ae1a8f5245504a454193036c458f6465b07ca73\n",
            "  Stored in directory: /root/.cache/pip/wheels/1b/3a/92/28b93e2fbfdbb07509ca4d6f50c5e407f48dce4ddbda69a4ab\n",
            "Successfully built pyspark\n",
            "Installing collected packages: py4j, pyspark\n",
            "Successfully installed py4j-0.10.9.7 pyspark-3.5.3\n"
          ]
        }
      ]
    },
    {
      "cell_type": "code",
      "source": [
        "import pyspark.sql\n",
        "from pyspark.sql import SparkSession"
      ],
      "metadata": {
        "id": "3kfO0QVxmODV"
      },
      "execution_count": null,
      "outputs": []
    },
    {
      "cell_type": "code",
      "source": [
        "spark = SparkSession.builder.appName('Practice').getOrCreate()"
      ],
      "metadata": {
        "id": "BdmC944fo6Cx"
      },
      "execution_count": null,
      "outputs": []
    },
    {
      "cell_type": "code",
      "source": [
        "sd_df = spark.read.csv('sample_data/california_housing_test.csv', header=True, inferSchema=True)\n"
      ],
      "metadata": {
        "id": "okZJvoEklkcK"
      },
      "execution_count": null,
      "outputs": []
    },
    {
      "cell_type": "code",
      "source": [
        "sd_df.printSchema()"
      ],
      "metadata": {
        "id": "NdbH72oRlzuf",
        "colab": {
          "base_uri": "https://localhost:8080/"
        },
        "outputId": "ff959f7d-c6ce-451c-b622-e152a11e56d1"
      },
      "execution_count": null,
      "outputs": [
        {
          "output_type": "stream",
          "name": "stdout",
          "text": [
            "root\n",
            " |-- longitude: double (nullable = true)\n",
            " |-- latitude: double (nullable = true)\n",
            " |-- housing_median_age: double (nullable = true)\n",
            " |-- total_rooms: double (nullable = true)\n",
            " |-- total_bedrooms: double (nullable = true)\n",
            " |-- population: double (nullable = true)\n",
            " |-- households: double (nullable = true)\n",
            " |-- median_income: double (nullable = true)\n",
            " |-- median_house_value: double (nullable = true)\n",
            "\n"
          ]
        }
      ]
    },
    {
      "cell_type": "code",
      "source": [
        "sd_df.count()"
      ],
      "metadata": {
        "id": "XG2XiIzkl57i",
        "colab": {
          "base_uri": "https://localhost:8080/"
        },
        "outputId": "cfd59816-d839-4e48-9b22-e2c0ac30798f"
      },
      "execution_count": null,
      "outputs": [
        {
          "output_type": "execute_result",
          "data": {
            "text/plain": [
              "3000"
            ]
          },
          "metadata": {},
          "execution_count": 6
        }
      ]
    },
    {
      "cell_type": "markdown",
      "source": [
        "#####Apache spark memory"
      ],
      "metadata": {
        "id": "Eg1KgWZ7tpIN"
      }
    },
    {
      "cell_type": "code",
      "source": [],
      "metadata": {
        "id": "B4Ay82YNvFRW"
      },
      "execution_count": null,
      "outputs": []
    },
    {
      "cell_type": "code",
      "source": [
        "from pyspark.sql.functions import *"
      ],
      "metadata": {
        "id": "r79Ykwf5vvRT"
      },
      "execution_count": null,
      "outputs": []
    },
    {
      "cell_type": "code",
      "source": [
        "sd_broad_df = broadcast(sd_df)"
      ],
      "metadata": {
        "id": "xmLyML6Esx5O"
      },
      "execution_count": null,
      "outputs": []
    },
    {
      "cell_type": "code",
      "source": [
        "# UDF\n",
        "def my_func(code: str) -> str:\n",
        "  return bdData.value.get(code)\n",
        "\n"
      ],
      "metadata": {
        "id": "_O7O7TYBueJm"
      },
      "execution_count": null,
      "outputs": []
    },
    {
      "cell_type": "code",
      "source": [
        "import pyspark.sql.functions as f\n",
        "spark.udf.register(\"my_function\", my_func, StringType())"
      ],
      "metadata": {
        "id": "OIgw5VOjxpYq",
        "colab": {
          "base_uri": "https://localhost:8080/",
          "height": 104
        },
        "outputId": "8a49dd58-dbb9-4e85-e26a-17b6a7c09c0c"
      },
      "execution_count": null,
      "outputs": [
        {
          "output_type": "execute_result",
          "data": {
            "text/plain": [
              "<function __main__.my_func(code: str) -> str>"
            ],
            "text/html": [
              "<div style=\"max-width:800px; border: 1px solid var(--colab-border-color);\"><style>\n",
              "      pre.function-repr-contents {\n",
              "        overflow-x: auto;\n",
              "        padding: 8px 12px;\n",
              "        max-height: 500px;\n",
              "      }\n",
              "\n",
              "      pre.function-repr-contents.function-repr-contents-collapsed {\n",
              "        cursor: pointer;\n",
              "        max-height: 100px;\n",
              "      }\n",
              "    </style>\n",
              "    <pre style=\"white-space: initial; background:\n",
              "         var(--colab-secondary-surface-color); padding: 8px 12px;\n",
              "         border-bottom: 1px solid var(--colab-border-color);\"><b>my_func</b><br/>def my_func(code: str) -&gt; str</pre><pre class=\"function-repr-contents function-repr-contents-collapsed\" style=\"\"><a class=\"filepath\" style=\"display:none\" href=\"#\">/content/&lt;ipython-input-9-a9b6c86267bd&gt;</a>&lt;no docstring&gt;</pre></div>"
            ]
          },
          "metadata": {},
          "execution_count": 10
        }
      ]
    },
    {
      "cell_type": "code",
      "source": [
        "# see how many cores available for spark engine\n",
        "spark.sparkContext.defaultParallelism"
      ],
      "metadata": {
        "id": "pQUAtIAF2t-P",
        "colab": {
          "base_uri": "https://localhost:8080/"
        },
        "outputId": "a5cbb5bf-f872-4b28-a7c1-f30c5adb3301"
      },
      "execution_count": null,
      "outputs": [
        {
          "output_type": "execute_result",
          "data": {
            "text/plain": [
              "96"
            ]
          },
          "metadata": {},
          "execution_count": 11
        }
      ]
    },
    {
      "cell_type": "code",
      "source": [
        "# generate ramdom data\n",
        "import random\n",
        "randomlist = random.sample(range(1, 40),10)"
      ],
      "metadata": {
        "id": "7VBXbscgRVXX"
      },
      "execution_count": null,
      "outputs": []
    },
    {
      "cell_type": "code",
      "source": [
        "print(randomlist)"
      ],
      "metadata": {
        "id": "SXftezyvT3z4",
        "colab": {
          "base_uri": "https://localhost:8080/"
        },
        "outputId": "88d6911e-d8c4-40ab-971d-4641c3841528"
      },
      "execution_count": null,
      "outputs": [
        {
          "output_type": "stream",
          "name": "stdout",
          "text": [
            "[25, 8, 29, 33, 6, 28, 3, 18, 20, 16]\n"
          ]
        }
      ]
    },
    {
      "cell_type": "code",
      "source": [
        "# parallelize and take it into 4 partitions\n",
        "rdd1 = spark.sparkContext.parallelize(randomlist, 4)"
      ],
      "metadata": {
        "id": "8emvBwMeT7xZ"
      },
      "execution_count": null,
      "outputs": []
    },
    {
      "cell_type": "code",
      "source": [
        "rdd1"
      ],
      "metadata": {
        "id": "hmlYYAeDUHBi",
        "colab": {
          "base_uri": "https://localhost:8080/"
        },
        "outputId": "36db1151-cfdc-4b68-e632-ccf58c6c8214"
      },
      "execution_count": null,
      "outputs": [
        {
          "output_type": "execute_result",
          "data": {
            "text/plain": [
              "ParallelCollectionRDD[17] at readRDDFromFile at PythonRDD.scala:289"
            ]
          },
          "metadata": {},
          "execution_count": 15
        }
      ]
    },
    {
      "cell_type": "code",
      "source": [
        "# show exactly the same data as created\n",
        "rdd1.collect()"
      ],
      "metadata": {
        "id": "PneFDjSsUXkf",
        "colab": {
          "base_uri": "https://localhost:8080/"
        },
        "outputId": "284d2e9b-9951-4ebb-d40a-12d27831aae1"
      },
      "execution_count": null,
      "outputs": [
        {
          "output_type": "execute_result",
          "data": {
            "text/plain": [
              "[25, 8, 29, 33, 6, 28, 3, 18, 20, 16]"
            ]
          },
          "metadata": {},
          "execution_count": 16
        }
      ]
    },
    {
      "cell_type": "code",
      "source": [
        "# to see the numbers of partitions\n",
        "rdd1.getNumPartitions()"
      ],
      "metadata": {
        "id": "QYoeUjzVUiT4",
        "colab": {
          "base_uri": "https://localhost:8080/"
        },
        "outputId": "bed17678-6969-4793-dedf-2a6e834845f2"
      },
      "execution_count": null,
      "outputs": [
        {
          "output_type": "execute_result",
          "data": {
            "text/plain": [
              "4"
            ]
          },
          "metadata": {},
          "execution_count": 17
        }
      ]
    },
    {
      "cell_type": "code",
      "source": [
        "# to see the data in partitions\n",
        "rdd1.glom().collect()"
      ],
      "metadata": {
        "id": "Z9YjRg2rU1-o",
        "colab": {
          "base_uri": "https://localhost:8080/"
        },
        "outputId": "acb0f660-0eeb-48c9-aa4f-e69874fc8464"
      },
      "execution_count": null,
      "outputs": [
        {
          "output_type": "execute_result",
          "data": {
            "text/plain": [
              "[[25, 8], [29, 33], [6, 28], [3, 18, 20, 16]]"
            ]
          },
          "metadata": {},
          "execution_count": 18
        }
      ]
    },
    {
      "cell_type": "code",
      "source": [
        "rdd1.take(rdd1.count()-1)"
      ],
      "metadata": {
        "id": "hzdfqfv_VKJn",
        "colab": {
          "base_uri": "https://localhost:8080/"
        },
        "outputId": "f2b65d91-f8f4-4e36-a6da-a29f66f05d37"
      },
      "execution_count": null,
      "outputs": [
        {
          "output_type": "execute_result",
          "data": {
            "text/plain": [
              "[25, 8, 29, 33, 6, 28, 3, 18, 20]"
            ]
          },
          "metadata": {},
          "execution_count": 19
        }
      ]
    },
    {
      "cell_type": "code",
      "source": [
        "rdd1.glom().collect()[3]"
      ],
      "metadata": {
        "id": "wvPkl20MWBLg",
        "colab": {
          "base_uri": "https://localhost:8080/"
        },
        "outputId": "77967247-dbe8-4281-d679-e0b1d71221d7"
      },
      "execution_count": null,
      "outputs": [
        {
          "output_type": "execute_result",
          "data": {
            "text/plain": [
              "[3, 18, 20, 16]"
            ]
          },
          "metadata": {},
          "execution_count": 20
        }
      ]
    },
    {
      "cell_type": "code",
      "source": [
        "rdd1.top(3)"
      ],
      "metadata": {
        "id": "jqZwjHkvWf_6",
        "colab": {
          "base_uri": "https://localhost:8080/"
        },
        "outputId": "94f6e09c-e927-4199-f5c8-5d65bf632dba"
      },
      "execution_count": null,
      "outputs": [
        {
          "output_type": "execute_result",
          "data": {
            "text/plain": [
              "[33, 29, 28]"
            ]
          },
          "metadata": {},
          "execution_count": 21
        }
      ]
    },
    {
      "cell_type": "code",
      "source": [
        "rdd_map = rdd1.map(lambda x: x*2)\n",
        "rdd_map.collect()"
      ],
      "metadata": {
        "id": "gy-ZCjp8Wntg",
        "colab": {
          "base_uri": "https://localhost:8080/"
        },
        "outputId": "2ee19fbe-a6f9-479e-f991-2c8596a58b0b"
      },
      "execution_count": null,
      "outputs": [
        {
          "output_type": "execute_result",
          "data": {
            "text/plain": [
              "[50, 16, 58, 66, 12, 56, 6, 36, 40, 32]"
            ]
          },
          "metadata": {},
          "execution_count": 22
        }
      ]
    },
    {
      "cell_type": "code",
      "source": [
        "def myfunc(x):\n",
        "  if x%2 == 0:\n",
        "    return x * 2\n",
        "  else:\n",
        "    return x*3\n",
        "\n",
        "rdd_map_2 = rdd1.map(myfunc)\n",
        "rdd_map_2.collect()"
      ],
      "metadata": {
        "id": "4iWVyzMpXlzU",
        "colab": {
          "base_uri": "https://localhost:8080/"
        },
        "outputId": "99960190-3684-4c51-a3db-eae5461228d6"
      },
      "execution_count": null,
      "outputs": [
        {
          "output_type": "execute_result",
          "data": {
            "text/plain": [
              "[75, 16, 87, 99, 12, 56, 9, 36, 40, 32]"
            ]
          },
          "metadata": {},
          "execution_count": 23
        }
      ]
    },
    {
      "cell_type": "code",
      "source": [
        "rdd_filter = rdd1.filter(lambda x: x%2 == 0)\n",
        "rdd_filter.collect()"
      ],
      "metadata": {
        "id": "E8nBaiGMYZHQ",
        "colab": {
          "base_uri": "https://localhost:8080/"
        },
        "outputId": "8356a2f6-a0f6-4087-f38d-fa3324887027"
      },
      "execution_count": null,
      "outputs": [
        {
          "output_type": "execute_result",
          "data": {
            "text/plain": [
              "[8, 6, 28, 18, 20, 16]"
            ]
          },
          "metadata": {},
          "execution_count": 24
        }
      ]
    },
    {
      "cell_type": "code",
      "source": [
        "# flatmap collect values into a single list\n",
        "# used when we want aggregation of the result (reduce)\n",
        "rdd_flatmap = rdd1.flatMap(lambda x: (x, x*10))\n",
        "rdd_flatmap.collect()"
      ],
      "metadata": {
        "id": "7gI5P_PiYteG",
        "colab": {
          "base_uri": "https://localhost:8080/"
        },
        "outputId": "4f9f87d1-5408-403a-9071-7f9dfdc1bab2"
      },
      "execution_count": null,
      "outputs": [
        {
          "output_type": "execute_result",
          "data": {
            "text/plain": [
              "[25,\n",
              " 250,\n",
              " 8,\n",
              " 80,\n",
              " 29,\n",
              " 290,\n",
              " 33,\n",
              " 330,\n",
              " 6,\n",
              " 60,\n",
              " 28,\n",
              " 280,\n",
              " 3,\n",
              " 30,\n",
              " 18,\n",
              " 180,\n",
              " 20,\n",
              " 200,\n",
              " 16,\n",
              " 160]"
            ]
          },
          "metadata": {},
          "execution_count": 25
        }
      ]
    },
    {
      "cell_type": "code",
      "source": [
        "rdd_map_3 = rdd1.map(lambda x: [x, x*10])\n",
        "rdd_map_3.collect()"
      ],
      "metadata": {
        "id": "BeDIq3jNY_dX",
        "colab": {
          "base_uri": "https://localhost:8080/"
        },
        "outputId": "0117a48e-7f56-44f0-8886-ba10941d7606"
      },
      "execution_count": null,
      "outputs": [
        {
          "output_type": "execute_result",
          "data": {
            "text/plain": [
              "[[25, 250],\n",
              " [8, 80],\n",
              " [29, 290],\n",
              " [33, 330],\n",
              " [6, 60],\n",
              " [28, 280],\n",
              " [3, 30],\n",
              " [18, 180],\n",
              " [20, 200],\n",
              " [16, 160]]"
            ]
          },
          "metadata": {},
          "execution_count": 26
        }
      ]
    },
    {
      "cell_type": "code",
      "source": [
        "rdd_map_3.glom().collect()"
      ],
      "metadata": {
        "id": "3fXZE33-Zrux",
        "colab": {
          "base_uri": "https://localhost:8080/"
        },
        "outputId": "63dd3262-e2bd-43e8-f11e-82793af872b5"
      },
      "execution_count": null,
      "outputs": [
        {
          "output_type": "execute_result",
          "data": {
            "text/plain": [
              "[[[25, 250], [8, 80]],\n",
              " [[29, 290], [33, 330]],\n",
              " [[6, 60], [28, 280]],\n",
              " [[3, 30], [18, 180], [20, 200], [16, 160]]]"
            ]
          },
          "metadata": {},
          "execution_count": 27
        }
      ]
    },
    {
      "cell_type": "code",
      "source": [
        "print(rdd1.max())\n",
        "print(rdd1.min())\n",
        "print(rdd1.mean())\n",
        "print(rdd1.sum())\n",
        "print(rdd1.stdev())"
      ],
      "metadata": {
        "id": "R_4XTBOcaElg",
        "colab": {
          "base_uri": "https://localhost:8080/"
        },
        "outputId": "b7376776-c7b1-40fb-92ed-d7f6cfb04f3d"
      },
      "execution_count": null,
      "outputs": [
        {
          "output_type": "stream",
          "name": "stdout",
          "text": [
            "33\n",
            "3\n",
            "18.6\n",
            "186\n",
            "9.840731680114036\n"
          ]
        }
      ]
    },
    {
      "cell_type": "code",
      "source": [
        "# mapPartitions() map a function into each partitions\n",
        "def my_partition_func(iterator):\n",
        "  sum = 0\n",
        "  for i in iterator:\n",
        "    sum += i\n",
        "\n",
        "  yield sum\n",
        "\n",
        "rdd_map_partition = rdd1.mapPartitions(my_partition_func)\n",
        "rdd_map_partition.collect()"
      ],
      "metadata": {
        "id": "Bo4p7RRtbBBo",
        "colab": {
          "base_uri": "https://localhost:8080/"
        },
        "outputId": "215adaa9-c98e-4ef3-8d8d-80950f449166"
      },
      "execution_count": null,
      "outputs": [
        {
          "output_type": "execute_result",
          "data": {
            "text/plain": [
              "[33, 62, 34, 57]"
            ]
          },
          "metadata": {},
          "execution_count": 29
        }
      ]
    },
    {
      "cell_type": "code",
      "source": [
        "# union\n",
        "rdd2 = spark.sparkContext.parallelize(random.sample(range(1,20), 10),2)\n",
        "rdd2.collect()\n"
      ],
      "metadata": {
        "id": "tcDCkODtcD9o",
        "colab": {
          "base_uri": "https://localhost:8080/"
        },
        "outputId": "b49792e4-fd0f-43b2-ab92-b3c59005acf9"
      },
      "execution_count": null,
      "outputs": [
        {
          "output_type": "execute_result",
          "data": {
            "text/plain": [
              "[9, 6, 12, 14, 11, 2, 5, 7, 19, 15]"
            ]
          },
          "metadata": {},
          "execution_count": 30
        }
      ]
    },
    {
      "cell_type": "code",
      "source": [
        "rdd1.union(rdd2).collect()"
      ],
      "metadata": {
        "id": "RZrPQVY8yXR6",
        "colab": {
          "base_uri": "https://localhost:8080/"
        },
        "outputId": "06a8047b-baf0-42b6-df0c-899a3e2aec00"
      },
      "execution_count": null,
      "outputs": [
        {
          "output_type": "execute_result",
          "data": {
            "text/plain": [
              "[25, 8, 29, 33, 6, 28, 3, 18, 20, 16, 9, 6, 12, 14, 11, 2, 5, 7, 19, 15]"
            ]
          },
          "metadata": {},
          "execution_count": 31
        }
      ]
    },
    {
      "cell_type": "code",
      "source": [
        "rdd_union = rdd1.union(rdd2)\n",
        "rdd_union.glom().collect()"
      ],
      "metadata": {
        "id": "X0JLVpG03XWr",
        "colab": {
          "base_uri": "https://localhost:8080/"
        },
        "outputId": "7c49a7f4-4d19-455a-b63d-e9381e07d967"
      },
      "execution_count": null,
      "outputs": [
        {
          "output_type": "execute_result",
          "data": {
            "text/plain": [
              "[[25, 8],\n",
              " [29, 33],\n",
              " [6, 28],\n",
              " [3, 18, 20, 16],\n",
              " [9, 6, 12, 14, 11],\n",
              " [2, 5, 7, 19, 15]]"
            ]
          },
          "metadata": {},
          "execution_count": 32
        }
      ]
    },
    {
      "cell_type": "code",
      "source": [
        "rdd1.union(rdd2).getNumPartitions()"
      ],
      "metadata": {
        "id": "1a0mSNIpycZx",
        "colab": {
          "base_uri": "https://localhost:8080/"
        },
        "outputId": "d88a56f9-e097-4a5e-c35d-f0c4a8e746af"
      },
      "execution_count": null,
      "outputs": [
        {
          "output_type": "execute_result",
          "data": {
            "text/plain": [
              "6"
            ]
          },
          "metadata": {},
          "execution_count": 33
        }
      ]
    },
    {
      "cell_type": "code",
      "source": [
        "rdd1.union(rdd2).glom().collect()"
      ],
      "metadata": {
        "id": "PU2yPxAQzoRR",
        "colab": {
          "base_uri": "https://localhost:8080/"
        },
        "outputId": "0e4231c3-2faa-4feb-9ac6-fa0d41f05c4d"
      },
      "execution_count": null,
      "outputs": [
        {
          "output_type": "execute_result",
          "data": {
            "text/plain": [
              "[[25, 8],\n",
              " [29, 33],\n",
              " [6, 28],\n",
              " [3, 18, 20, 16],\n",
              " [9, 6, 12, 14, 11],\n",
              " [2, 5, 7, 19, 15]]"
            ]
          },
          "metadata": {},
          "execution_count": 34
        }
      ]
    },
    {
      "cell_type": "code",
      "source": [
        "rdd_inter = rdd1.intersection(rdd2)\n",
        "rdd_inter.collect()"
      ],
      "metadata": {
        "id": "I2rcCXCizuQ7",
        "colab": {
          "base_uri": "https://localhost:8080/"
        },
        "outputId": "8211190e-6cb3-4fc0-f916-08ff86d36a6a"
      },
      "execution_count": null,
      "outputs": [
        {
          "output_type": "execute_result",
          "data": {
            "text/plain": [
              "[6]"
            ]
          },
          "metadata": {},
          "execution_count": 35
        }
      ]
    },
    {
      "cell_type": "code",
      "source": [
        "rdd_inter.glom().collect()"
      ],
      "metadata": {
        "id": "NtEi2BrCz4wa",
        "colab": {
          "base_uri": "https://localhost:8080/"
        },
        "outputId": "74ac2775-4c06-4050-e3c5-3a2e5fd6a59c"
      },
      "execution_count": null,
      "outputs": [
        {
          "output_type": "execute_result",
          "data": {
            "text/plain": [
              "[[6], [], [], [], [], []]"
            ]
          },
          "metadata": {},
          "execution_count": 36
        }
      ]
    },
    {
      "cell_type": "code",
      "source": [
        "rdd_inter.coalesce(1).glom().collect()"
      ],
      "metadata": {
        "id": "I0Xkzp4o0C5o",
        "colab": {
          "base_uri": "https://localhost:8080/"
        },
        "outputId": "1f18474a-4918-4e35-a610-bb5c4a619e19"
      },
      "execution_count": null,
      "outputs": [
        {
          "output_type": "execute_result",
          "data": {
            "text/plain": [
              "[[6]]"
            ]
          },
          "metadata": {},
          "execution_count": 37
        }
      ]
    },
    {
      "cell_type": "code",
      "source": [
        "# takeSample withreplacement, num, [seed]\n",
        "rdd1.takeSample(False, 5)"
      ],
      "metadata": {
        "id": "vx9qECWP0W_D",
        "colab": {
          "base_uri": "https://localhost:8080/"
        },
        "outputId": "a07712e1-ebc1-442c-abaa-d3ac4f8ae6ce"
      },
      "execution_count": null,
      "outputs": [
        {
          "output_type": "execute_result",
          "data": {
            "text/plain": [
              "[28, 16, 6, 8, 25]"
            ]
          },
          "metadata": {},
          "execution_count": 38
        }
      ]
    },
    {
      "cell_type": "code",
      "source": [
        "# takeOrdered\n",
        "rdd1.takeOrdered(5)"
      ],
      "metadata": {
        "id": "K3O-r4e40qeS",
        "colab": {
          "base_uri": "https://localhost:8080/"
        },
        "outputId": "af305f7d-69df-4b0a-fcf3-30d38a831b9c"
      },
      "execution_count": null,
      "outputs": [
        {
          "output_type": "execute_result",
          "data": {
            "text/plain": [
              "[3, 6, 8, 16, 18]"
            ]
          },
          "metadata": {},
          "execution_count": 39
        }
      ]
    },
    {
      "cell_type": "code",
      "source": [
        "rdd1.takeOrdered(5, key=lambda x: -x)"
      ],
      "metadata": {
        "id": "NqySqPhX1oRj",
        "colab": {
          "base_uri": "https://localhost:8080/"
        },
        "outputId": "7e3d4d3d-5b1c-4012-f7db-ab2491515b04"
      },
      "execution_count": null,
      "outputs": [
        {
          "output_type": "execute_result",
          "data": {
            "text/plain": [
              "[33, 29, 28, 25, 20]"
            ]
          },
          "metadata": {},
          "execution_count": 40
        }
      ]
    },
    {
      "cell_type": "code",
      "source": [
        "rdd1.reduce(lambda x, y: x+y)"
      ],
      "metadata": {
        "id": "gp7QJN7X13-q",
        "colab": {
          "base_uri": "https://localhost:8080/"
        },
        "outputId": "a1dd11f4-2dc5-402a-8322-5d68c685f895"
      },
      "execution_count": null,
      "outputs": [
        {
          "output_type": "execute_result",
          "data": {
            "text/plain": [
              "186"
            ]
          },
          "metadata": {},
          "execution_count": 41
        }
      ]
    },
    {
      "cell_type": "code",
      "source": [
        "rdd_rbk = rdd_union.map(lambda x: (x, x*x)).reduceByKey(lambda x,y: x+y)"
      ],
      "metadata": {
        "id": "X5hVVGDD2FHb"
      },
      "execution_count": null,
      "outputs": []
    },
    {
      "cell_type": "code",
      "source": [
        "rdd_rbk.toDF(schema=[\"key\",\"value\"]).show(vertical=False,truncate=False)"
      ],
      "metadata": {
        "id": "Yb9ALVHi3G7j",
        "colab": {
          "base_uri": "https://localhost:8080/"
        },
        "outputId": "2d5c2d41-b19a-47d6-aaea-bb4226f43aad"
      },
      "execution_count": null,
      "outputs": [
        {
          "output_type": "stream",
          "name": "stdout",
          "text": [
            "+---+-----+\n",
            "|key|value|\n",
            "+---+-----+\n",
            "|6  |72   |\n",
            "|18 |324  |\n",
            "|12 |144  |\n",
            "|25 |625  |\n",
            "|7  |49   |\n",
            "|19 |361  |\n",
            "|8  |64   |\n",
            "|20 |400  |\n",
            "|14 |196  |\n",
            "|2  |4    |\n",
            "|33 |1089 |\n",
            "|3  |9    |\n",
            "|9  |81   |\n",
            "|15 |225  |\n",
            "|28 |784  |\n",
            "|16 |256  |\n",
            "|29 |841  |\n",
            "|11 |121  |\n",
            "|5  |25   |\n",
            "+---+-----+\n",
            "\n"
          ]
        }
      ]
    },
    {
      "cell_type": "code",
      "source": [
        "# sortByKey()\n",
        "rdd_rbk.sortByKey().collect()"
      ],
      "metadata": {
        "id": "ehcF1oY-36dj",
        "colab": {
          "base_uri": "https://localhost:8080/"
        },
        "outputId": "931f7a28-79ad-4bdf-f1a0-7bcf81eeac79"
      },
      "execution_count": null,
      "outputs": [
        {
          "output_type": "execute_result",
          "data": {
            "text/plain": [
              "[(2, 4),\n",
              " (3, 9),\n",
              " (5, 25),\n",
              " (6, 72),\n",
              " (7, 49),\n",
              " (8, 64),\n",
              " (9, 81),\n",
              " (11, 121),\n",
              " (12, 144),\n",
              " (14, 196),\n",
              " (15, 225),\n",
              " (16, 256),\n",
              " (18, 324),\n",
              " (19, 361),\n",
              " (20, 400),\n",
              " (25, 625),\n",
              " (28, 784),\n",
              " (29, 841),\n",
              " (33, 1089)]"
            ]
          },
          "metadata": {},
          "execution_count": 44
        }
      ]
    },
    {
      "cell_type": "code",
      "source": [
        "rdd_rbk.countByKey()"
      ],
      "metadata": {
        "id": "oDHZ47QI5HFR",
        "colab": {
          "base_uri": "https://localhost:8080/"
        },
        "outputId": "12677bac-c3a8-4753-91d9-b5b67a1f55ca"
      },
      "execution_count": null,
      "outputs": [
        {
          "output_type": "execute_result",
          "data": {
            "text/plain": [
              "defaultdict(int,\n",
              "            {6: 1,\n",
              "             18: 1,\n",
              "             12: 1,\n",
              "             25: 1,\n",
              "             7: 1,\n",
              "             19: 1,\n",
              "             8: 1,\n",
              "             20: 1,\n",
              "             14: 1,\n",
              "             2: 1,\n",
              "             33: 1,\n",
              "             3: 1,\n",
              "             9: 1,\n",
              "             15: 1,\n",
              "             28: 1,\n",
              "             16: 1,\n",
              "             29: 1,\n",
              "             11: 1,\n",
              "             5: 1})"
            ]
          },
          "metadata": {},
          "execution_count": 45
        }
      ]
    },
    {
      "cell_type": "code",
      "source": [
        "rdd_gbk = rdd_rbk.groupByKey().collect()"
      ],
      "metadata": {
        "id": "mc5R8zAt5SF6"
      },
      "execution_count": null,
      "outputs": []
    },
    {
      "cell_type": "code",
      "source": [
        "for item in rdd_gbk:\n",
        "  print(item[0], list(item[1]))"
      ],
      "metadata": {
        "id": "42opMnEm5lT6",
        "colab": {
          "base_uri": "https://localhost:8080/"
        },
        "outputId": "917b20ef-c035-4495-be05-8ac8de8a898f"
      },
      "execution_count": null,
      "outputs": [
        {
          "output_type": "stream",
          "name": "stdout",
          "text": [
            "6 [72]\n",
            "18 [324]\n",
            "12 [144]\n",
            "25 [625]\n",
            "7 [49]\n",
            "19 [361]\n",
            "8 [64]\n",
            "20 [400]\n",
            "14 [196]\n",
            "2 [4]\n",
            "33 [1089]\n",
            "3 [9]\n",
            "9 [81]\n",
            "15 [225]\n",
            "28 [784]\n",
            "16 [256]\n",
            "29 [841]\n",
            "11 [121]\n",
            "5 [25]\n"
          ]
        }
      ]
    },
    {
      "cell_type": "code",
      "source": [
        "rdd_gby_1 = rdd_rbk.groupByKey()"
      ],
      "metadata": {
        "id": "6spi2Wwt92Se"
      },
      "execution_count": null,
      "outputs": []
    },
    {
      "cell_type": "code",
      "source": [
        "import os\n",
        "os.environ[\"PYTHONHASHSEED\"] = \"false\""
      ],
      "metadata": {
        "id": "Ux_24eGy-bhB"
      },
      "execution_count": null,
      "outputs": []
    },
    {
      "cell_type": "code",
      "source": [
        "\n",
        "rdd_rbk.sortByKey().lookup(10)"
      ],
      "metadata": {
        "id": "V6qYw0hp7BMT",
        "colab": {
          "base_uri": "https://localhost:8080/"
        },
        "outputId": "df499cfa-919f-4cc4-980c-021e8cc31dfb"
      },
      "execution_count": null,
      "outputs": [
        {
          "output_type": "execute_result",
          "data": {
            "text/plain": [
              "[]"
            ]
          },
          "metadata": {},
          "execution_count": 50
        }
      ]
    },
    {
      "cell_type": "code",
      "source": [
        "rdd_rbk.cache()"
      ],
      "metadata": {
        "id": "efTW6PzI8Tdi",
        "colab": {
          "base_uri": "https://localhost:8080/"
        },
        "outputId": "91820d2e-4289-461b-9836-b2940c697e85"
      },
      "execution_count": null,
      "outputs": [
        {
          "output_type": "execute_result",
          "data": {
            "text/plain": [
              "PythonRDD[94] at RDD at PythonRDD.scala:53"
            ]
          },
          "metadata": {},
          "execution_count": 51
        }
      ]
    },
    {
      "cell_type": "code",
      "source": [
        "  rdd_rbk.is_cached"
      ],
      "metadata": {
        "id": "uipEhzzN_ffy",
        "colab": {
          "base_uri": "https://localhost:8080/"
        },
        "outputId": "63981055-17ff-4548-b106-37eaa97f612f"
      },
      "execution_count": null,
      "outputs": [
        {
          "output_type": "execute_result",
          "data": {
            "text/plain": [
              "True"
            ]
          },
          "metadata": {},
          "execution_count": 52
        }
      ]
    },
    {
      "cell_type": "code",
      "source": [
        "rdd_rbk.unpersist()"
      ],
      "metadata": {
        "id": "xg_tlIyYAa6y",
        "colab": {
          "base_uri": "https://localhost:8080/"
        },
        "outputId": "a0b5abf1-d593-4057-d48c-297880bc2cce"
      },
      "execution_count": null,
      "outputs": [
        {
          "output_type": "execute_result",
          "data": {
            "text/plain": [
              "PythonRDD[94] at RDD at PythonRDD.scala:53"
            ]
          },
          "metadata": {},
          "execution_count": 53
        }
      ]
    },
    {
      "cell_type": "code",
      "source": [
        "# DF\n",
        "spark"
      ],
      "metadata": {
        "id": "4PgK8cM1Agi7",
        "colab": {
          "base_uri": "https://localhost:8080/",
          "height": 221
        },
        "outputId": "e5888369-efd7-4ec9-f275-d1fefcc65d01"
      },
      "execution_count": null,
      "outputs": [
        {
          "output_type": "execute_result",
          "data": {
            "text/plain": [
              "<pyspark.sql.session.SparkSession at 0x7baeae7be6b0>"
            ],
            "text/html": [
              "\n",
              "            <div>\n",
              "                <p><b>SparkSession - in-memory</b></p>\n",
              "                \n",
              "        <div>\n",
              "            <p><b>SparkContext</b></p>\n",
              "\n",
              "            <p><a href=\"http://0d9b7f97d562:4040\">Spark UI</a></p>\n",
              "\n",
              "            <dl>\n",
              "              <dt>Version</dt>\n",
              "                <dd><code>v3.5.3</code></dd>\n",
              "              <dt>Master</dt>\n",
              "                <dd><code>local[*]</code></dd>\n",
              "              <dt>AppName</dt>\n",
              "                <dd><code>Practice</code></dd>\n",
              "            </dl>\n",
              "        </div>\n",
              "        \n",
              "            </div>\n",
              "        "
            ]
          },
          "metadata": {},
          "execution_count": 54
        }
      ]
    },
    {
      "cell_type": "code",
      "source": [
        "df = spark.read.format(\"csv\").option(\"header\", True).option(\"inferSchema\", True).load(\"dataset_fifa_18/CompleteDataset.csv\")"
      ],
      "metadata": {
        "id": "_CmgQBYkEHlS",
        "colab": {
          "base_uri": "https://localhost:8080/",
          "height": 293
        },
        "outputId": "78df0e9a-e545-4e8a-8243-1538cef1ff9a"
      },
      "execution_count": null,
      "outputs": [
        {
          "output_type": "error",
          "ename": "AnalysisException",
          "evalue": "[PATH_NOT_FOUND] Path does not exist: file:/content/dataset_fifa_18/CompleteDataset.csv.",
          "traceback": [
            "\u001b[0;31m---------------------------------------------------------------------------\u001b[0m",
            "\u001b[0;31mAnalysisException\u001b[0m                         Traceback (most recent call last)",
            "\u001b[0;32m<ipython-input-55-9d57a4b56952>\u001b[0m in \u001b[0;36m<cell line: 1>\u001b[0;34m()\u001b[0m\n\u001b[0;32m----> 1\u001b[0;31m \u001b[0mdf\u001b[0m \u001b[0;34m=\u001b[0m \u001b[0mspark\u001b[0m\u001b[0;34m.\u001b[0m\u001b[0mread\u001b[0m\u001b[0;34m.\u001b[0m\u001b[0mformat\u001b[0m\u001b[0;34m(\u001b[0m\u001b[0;34m\"csv\"\u001b[0m\u001b[0;34m)\u001b[0m\u001b[0;34m.\u001b[0m\u001b[0moption\u001b[0m\u001b[0;34m(\u001b[0m\u001b[0;34m\"header\"\u001b[0m\u001b[0;34m,\u001b[0m \u001b[0;32mTrue\u001b[0m\u001b[0;34m)\u001b[0m\u001b[0;34m.\u001b[0m\u001b[0moption\u001b[0m\u001b[0;34m(\u001b[0m\u001b[0;34m\"inferSchema\"\u001b[0m\u001b[0;34m,\u001b[0m \u001b[0;32mTrue\u001b[0m\u001b[0;34m)\u001b[0m\u001b[0;34m.\u001b[0m\u001b[0mload\u001b[0m\u001b[0;34m(\u001b[0m\u001b[0;34m\"dataset_fifa_18/CompleteDataset.csv\"\u001b[0m\u001b[0;34m)\u001b[0m\u001b[0;34m\u001b[0m\u001b[0;34m\u001b[0m\u001b[0m\n\u001b[0m",
            "\u001b[0;32m/usr/local/lib/python3.10/dist-packages/pyspark/sql/readwriter.py\u001b[0m in \u001b[0;36mload\u001b[0;34m(self, path, format, schema, **options)\u001b[0m\n\u001b[1;32m    305\u001b[0m         \u001b[0mself\u001b[0m\u001b[0;34m.\u001b[0m\u001b[0moptions\u001b[0m\u001b[0;34m(\u001b[0m\u001b[0;34m**\u001b[0m\u001b[0moptions\u001b[0m\u001b[0;34m)\u001b[0m\u001b[0;34m\u001b[0m\u001b[0;34m\u001b[0m\u001b[0m\n\u001b[1;32m    306\u001b[0m         \u001b[0;32mif\u001b[0m \u001b[0misinstance\u001b[0m\u001b[0;34m(\u001b[0m\u001b[0mpath\u001b[0m\u001b[0;34m,\u001b[0m \u001b[0mstr\u001b[0m\u001b[0;34m)\u001b[0m\u001b[0;34m:\u001b[0m\u001b[0;34m\u001b[0m\u001b[0;34m\u001b[0m\u001b[0m\n\u001b[0;32m--> 307\u001b[0;31m             \u001b[0;32mreturn\u001b[0m \u001b[0mself\u001b[0m\u001b[0;34m.\u001b[0m\u001b[0m_df\u001b[0m\u001b[0;34m(\u001b[0m\u001b[0mself\u001b[0m\u001b[0;34m.\u001b[0m\u001b[0m_jreader\u001b[0m\u001b[0;34m.\u001b[0m\u001b[0mload\u001b[0m\u001b[0;34m(\u001b[0m\u001b[0mpath\u001b[0m\u001b[0;34m)\u001b[0m\u001b[0;34m)\u001b[0m\u001b[0;34m\u001b[0m\u001b[0;34m\u001b[0m\u001b[0m\n\u001b[0m\u001b[1;32m    308\u001b[0m         \u001b[0;32melif\u001b[0m \u001b[0mpath\u001b[0m \u001b[0;32mis\u001b[0m \u001b[0;32mnot\u001b[0m \u001b[0;32mNone\u001b[0m\u001b[0;34m:\u001b[0m\u001b[0;34m\u001b[0m\u001b[0;34m\u001b[0m\u001b[0m\n\u001b[1;32m    309\u001b[0m             \u001b[0;32mif\u001b[0m \u001b[0mtype\u001b[0m\u001b[0;34m(\u001b[0m\u001b[0mpath\u001b[0m\u001b[0;34m)\u001b[0m \u001b[0;34m!=\u001b[0m \u001b[0mlist\u001b[0m\u001b[0;34m:\u001b[0m\u001b[0;34m\u001b[0m\u001b[0;34m\u001b[0m\u001b[0m\n",
            "\u001b[0;32m/usr/local/lib/python3.10/dist-packages/py4j/java_gateway.py\u001b[0m in \u001b[0;36m__call__\u001b[0;34m(self, *args)\u001b[0m\n\u001b[1;32m   1320\u001b[0m \u001b[0;34m\u001b[0m\u001b[0m\n\u001b[1;32m   1321\u001b[0m         \u001b[0manswer\u001b[0m \u001b[0;34m=\u001b[0m \u001b[0mself\u001b[0m\u001b[0;34m.\u001b[0m\u001b[0mgateway_client\u001b[0m\u001b[0;34m.\u001b[0m\u001b[0msend_command\u001b[0m\u001b[0;34m(\u001b[0m\u001b[0mcommand\u001b[0m\u001b[0;34m)\u001b[0m\u001b[0;34m\u001b[0m\u001b[0;34m\u001b[0m\u001b[0m\n\u001b[0;32m-> 1322\u001b[0;31m         return_value = get_return_value(\n\u001b[0m\u001b[1;32m   1323\u001b[0m             answer, self.gateway_client, self.target_id, self.name)\n\u001b[1;32m   1324\u001b[0m \u001b[0;34m\u001b[0m\u001b[0m\n",
            "\u001b[0;32m/usr/local/lib/python3.10/dist-packages/pyspark/errors/exceptions/captured.py\u001b[0m in \u001b[0;36mdeco\u001b[0;34m(*a, **kw)\u001b[0m\n\u001b[1;32m    183\u001b[0m                 \u001b[0;31m# Hide where the exception came from that shows a non-Pythonic\u001b[0m\u001b[0;34m\u001b[0m\u001b[0;34m\u001b[0m\u001b[0m\n\u001b[1;32m    184\u001b[0m                 \u001b[0;31m# JVM exception message.\u001b[0m\u001b[0;34m\u001b[0m\u001b[0;34m\u001b[0m\u001b[0m\n\u001b[0;32m--> 185\u001b[0;31m                 \u001b[0;32mraise\u001b[0m \u001b[0mconverted\u001b[0m \u001b[0;32mfrom\u001b[0m \u001b[0;32mNone\u001b[0m\u001b[0;34m\u001b[0m\u001b[0;34m\u001b[0m\u001b[0m\n\u001b[0m\u001b[1;32m    186\u001b[0m             \u001b[0;32melse\u001b[0m\u001b[0;34m:\u001b[0m\u001b[0;34m\u001b[0m\u001b[0;34m\u001b[0m\u001b[0m\n\u001b[1;32m    187\u001b[0m                 \u001b[0;32mraise\u001b[0m\u001b[0;34m\u001b[0m\u001b[0;34m\u001b[0m\u001b[0m\n",
            "\u001b[0;31mAnalysisException\u001b[0m: [PATH_NOT_FOUND] Path does not exist: file:/content/dataset_fifa_18/CompleteDataset.csv."
          ]
        }
      ]
    },
    {
      "cell_type": "code",
      "source": [
        "df.printSchema()"
      ],
      "metadata": {
        "id": "zZmcEyfgGCs7"
      },
      "execution_count": null,
      "outputs": []
    },
    {
      "cell_type": "code",
      "source": [
        "df.show(truncate=False)"
      ],
      "metadata": {
        "id": "XLdrlRviGas5"
      },
      "execution_count": null,
      "outputs": []
    },
    {
      "cell_type": "code",
      "source": [
        "df.count()"
      ],
      "metadata": {
        "id": "Ktq2lTBcGh-r"
      },
      "execution_count": null,
      "outputs": []
    },
    {
      "cell_type": "code",
      "source": [
        "df.rdd.glom().collect()"
      ],
      "metadata": {
        "id": "ZAkORF3DHMqb"
      },
      "execution_count": null,
      "outputs": []
    },
    {
      "cell_type": "code",
      "source": [
        "df.rdd.getNumPartitions()"
      ],
      "metadata": {
        "id": "qjtUz-6vHcAS"
      },
      "execution_count": null,
      "outputs": []
    },
    {
      "cell_type": "code",
      "source": [
        "df2 = df.repartition(4)"
      ],
      "metadata": {
        "id": "gjPo1uj5Hldq"
      },
      "execution_count": null,
      "outputs": []
    },
    {
      "cell_type": "code",
      "source": [
        "df2.rdd.getNumPartitions()"
      ],
      "metadata": {
        "id": "Y-1rLR8CHq-z"
      },
      "execution_count": null,
      "outputs": []
    },
    {
      "cell_type": "code",
      "source": [
        "df2.rdd.glom().collect()"
      ],
      "metadata": {
        "id": "AP9BbTOXH4Oq"
      },
      "execution_count": null,
      "outputs": []
    },
    {
      "cell_type": "code",
      "source": [
        "df.withColumnRenamed(\"_c0\", \"id\").show()"
      ],
      "metadata": {
        "id": "2-O8P65WH_CL"
      },
      "execution_count": null,
      "outputs": []
    },
    {
      "cell_type": "code",
      "source": [
        "df2 = df.withColumnRenamed(\"_c0\", \"id\")\n"
      ],
      "metadata": {
        "id": "WZ_V8Vl_ILkS"
      },
      "execution_count": null,
      "outputs": []
    },
    {
      "cell_type": "code",
      "source": [
        "df2.printSchema()"
      ],
      "metadata": {
        "id": "3UQ5zQQbIS2D"
      },
      "execution_count": null,
      "outputs": []
    },
    {
      "cell_type": "code",
      "source": [
        "df2.rdd.getNumPartitions()"
      ],
      "metadata": {
        "id": "CkWfhTZNIWxh"
      },
      "execution_count": null,
      "outputs": []
    },
    {
      "cell_type": "code",
      "source": [
        "df2 = df2.repartition(6)"
      ],
      "metadata": {
        "id": "M5dHVkSTJCW6"
      },
      "execution_count": null,
      "outputs": []
    },
    {
      "cell_type": "code",
      "source": [
        "df2.rdd.getNumPartitions()"
      ],
      "metadata": {
        "id": "be26Ubq_JQom"
      },
      "execution_count": null,
      "outputs": []
    },
    {
      "cell_type": "code",
      "source": [
        "df3 = df2.repartition(3, \"Nationality\")"
      ],
      "metadata": {
        "id": "LZ5AUZ9-JYIR"
      },
      "execution_count": null,
      "outputs": []
    },
    {
      "cell_type": "code",
      "source": [
        "df3.rdd.glom().collect()"
      ],
      "metadata": {
        "id": "QxbX3oTJJsVC"
      },
      "execution_count": null,
      "outputs": []
    },
    {
      "cell_type": "code",
      "source": [
        "df3.rdd.getNumPartitions()"
      ],
      "metadata": {
        "id": "7-xToxhCJxNC"
      },
      "execution_count": null,
      "outputs": []
    },
    {
      "cell_type": "code",
      "source": [
        "df3.show()"
      ],
      "metadata": {
        "id": "EmdgP0LoJ-Bh"
      },
      "execution_count": null,
      "outputs": []
    },
    {
      "cell_type": "code",
      "source": [
        "df3.na.fill({\"CAM\": 10, \"CB\": 1}).show()"
      ],
      "metadata": {
        "id": "6P8We92LKyji"
      },
      "execution_count": null,
      "outputs": []
    },
    {
      "cell_type": "code",
      "source": [
        "df3.filter(df3[\"Nationality\"] == \"Germany\").show()"
      ],
      "metadata": {
        "id": "qdV9qGK-LUKp"
      },
      "execution_count": null,
      "outputs": []
    },
    {
      "cell_type": "code",
      "source": [
        "df3.groupBy(\"Nationality\").count().sort(\"Nationality\").show(50)"
      ],
      "metadata": {
        "id": "Cj_eaHGhLnpq"
      },
      "execution_count": null,
      "outputs": []
    },
    {
      "cell_type": "code",
      "source": [
        "df3.groupBy(\"Nationality\", \"Age\").count().sort(\"Nationality\",\"Age\").show(50)"
      ],
      "metadata": {
        "id": "LaaHY51nMFK7"
      },
      "execution_count": null,
      "outputs": []
    },
    {
      "cell_type": "code",
      "source": [
        "from pyspark.sql import *"
      ],
      "metadata": {
        "id": "AyOzcaIdPo2I"
      },
      "execution_count": null,
      "outputs": []
    },
    {
      "cell_type": "code",
      "source": [
        "# visualize with pandas\n",
        "df3_res = df3.where(df3[\"Overall\"]>70).filter(df3[\"Nationality\"] == \"Albania\").groupBy(\"Nationality\", \"Age\").count().sort(\"Nationality\",\"Age\").toPandas()\n",
        "df3_res.plot(kind=\"bar\", x=\"Nationality\", y=\"count\")\n"
      ],
      "metadata": {
        "id": "yENkVaYWMalM"
      },
      "execution_count": null,
      "outputs": []
    },
    {
      "cell_type": "code",
      "source": [
        "df3_res_2 = df3.where(df3[\"Overall\"]>70).groupBy(\"Age\").count().sort(\"Age\").toPandas()\n",
        "df3_res_2.plot(kind=\"bar\", x=\"Age\", y=\"count\")\n"
      ],
      "metadata": {
        "id": "Qe1mE1E0N2Uk"
      },
      "execution_count": null,
      "outputs": []
    },
    {
      "cell_type": "code",
      "source": [],
      "metadata": {
        "id": "yq8yXwT--7XD"
      },
      "execution_count": null,
      "outputs": []
    },
    {
      "cell_type": "code",
      "source": [
        "# UDF\n",
        "def uppercase_lowercase(str):\n",
        "  if len(str) > 10:\n",
        "    return str.upper()\n",
        "  else:\n",
        "    return str.lower()\n",
        "\n",
        "spark.udf.register(\"uppercase_lowercase\", uppercase_lowercase, StringType())"
      ],
      "metadata": {
        "id": "Gp2c3hAVOd8z"
      },
      "execution_count": null,
      "outputs": []
    },
    {
      "cell_type": "code",
      "source": [
        "# register df\n",
        "df2.createOrReplaceTempView(\"fifa_table\")"
      ],
      "metadata": {
        "id": "B01N0DTbSKIn"
      },
      "execution_count": null,
      "outputs": []
    },
    {
      "cell_type": "code",
      "source": [
        "# df2.select(\"Name\", uppercase_lowercase(\"Name\")).show()\n",
        "spark.sql(\"select Name, uppercase_lowercase(Name) as upper_Name from fifa_table\").show()"
      ],
      "metadata": {
        "id": "noo6hug7Q8ps"
      },
      "execution_count": null,
      "outputs": []
    },
    {
      "cell_type": "code",
      "source": [
        "broadcast(df2)"
      ],
      "metadata": {
        "id": "rVI3xOi-UXaF"
      },
      "execution_count": null,
      "outputs": []
    },
    {
      "cell_type": "code",
      "source": [
        "df2.select(\"Name\", uppercase_lowercase(\"Name\")).show()"
      ],
      "metadata": {
        "id": "oimHeKliRQqc"
      },
      "execution_count": null,
      "outputs": []
    },
    {
      "cell_type": "code",
      "source": [
        "df = spark.read.format(\"json\").load('arxiv-metadata-oai-snapshot.json')"
      ],
      "metadata": {
        "id": "nJak43PuUTq7"
      },
      "execution_count": null,
      "outputs": []
    },
    {
      "cell_type": "code",
      "source": [
        "df.printSchema()"
      ],
      "metadata": {
        "id": "VaO3BHtaYCtC"
      },
      "execution_count": null,
      "outputs": []
    },
    {
      "cell_type": "code",
      "source": [
        "df.count()"
      ],
      "metadata": {
        "id": "d8Q8jvX_YLMX"
      },
      "execution_count": null,
      "outputs": []
    },
    {
      "cell_type": "code",
      "source": [
        "df.rdd.getNumPartitions()"
      ],
      "metadata": {
        "id": "EKIZvXn_YkG3"
      },
      "execution_count": null,
      "outputs": []
    },
    {
      "cell_type": "code",
      "source": [
        "df.rdd.glom().collect()"
      ],
      "metadata": {
        "id": "XObQHtJmYqSU"
      },
      "execution_count": null,
      "outputs": []
    },
    {
      "cell_type": "code",
      "source": [
        "df.show()"
      ],
      "metadata": {
        "id": "PnUQXOEWYxSr"
      },
      "execution_count": null,
      "outputs": []
    },
    {
      "cell_type": "code",
      "source": [
        "df.cache()"
      ],
      "metadata": {
        "id": "x14pQdvEZFsj"
      },
      "execution_count": null,
      "outputs": []
    },
    {
      "cell_type": "code",
      "source": [
        "spark.sparkContext.defaultParallelism"
      ],
      "metadata": {
        "id": "2EDqLKKxZmuT"
      },
      "execution_count": null,
      "outputs": []
    },
    {
      "cell_type": "code",
      "source": [
        "df.count()"
      ],
      "metadata": {
        "id": "gsNcD7NlZvrT"
      },
      "execution_count": null,
      "outputs": []
    },
    {
      "cell_type": "code",
      "source": [
        "import json"
      ],
      "metadata": {
        "id": "wD5Rf96icm-7"
      },
      "execution_count": null,
      "outputs": []
    },
    {
      "cell_type": "code",
      "source": [
        "rdd_json = spark.sparkContext.textFile('arxiv-metadata-oai-snapshot.json')"
      ],
      "metadata": {
        "id": "Y87VYwxudOgI"
      },
      "execution_count": null,
      "outputs": []
    },
    {
      "cell_type": "code",
      "source": [
        "rdd = rdd_json.map(lambda x: json.loads(x))"
      ],
      "metadata": {
        "id": "XGflLJb3apgD"
      },
      "execution_count": null,
      "outputs": []
    },
    {
      "cell_type": "code",
      "source": [
        "rdd.getNumPartitions()"
      ],
      "metadata": {
        "id": "a4WdSwpGbQtb"
      },
      "execution_count": null,
      "outputs": []
    },
    {
      "cell_type": "code",
      "source": [
        "spark.sparkContext.defaultParallelism"
      ],
      "metadata": {
        "id": "N7WZcUpVdkVC"
      },
      "execution_count": null,
      "outputs": []
    },
    {
      "cell_type": "code",
      "source": [
        "rdd.persist()"
      ],
      "metadata": {
        "id": "kTejyAR0cGS4"
      },
      "execution_count": null,
      "outputs": []
    },
    {
      "cell_type": "code",
      "source": [
        "rdd.take(2)"
      ],
      "metadata": {
        "id": "FnUyuAKScJ6e"
      },
      "execution_count": null,
      "outputs": []
    },
    {
      "cell_type": "code",
      "source": [
        "rdd.count()"
      ],
      "metadata": {
        "id": "1QxWvlQHcS5r"
      },
      "execution_count": null,
      "outputs": []
    },
    {
      "cell_type": "code",
      "source": [
        "rdd.flatMap(lambda x: x.keys()).distinct().collect()"
      ],
      "metadata": {
        "id": "xdRZfkJsfucM"
      },
      "execution_count": null,
      "outputs": []
    },
    {
      "cell_type": "code",
      "source": [
        "rdd.map(lambda x: x['license']).distinct().collect()"
      ],
      "metadata": {
        "id": "0O_649vAgIyt"
      },
      "execution_count": null,
      "outputs": []
    },
    {
      "cell_type": "code",
      "source": [
        "# min title\n",
        "min_title = rdd.map(lambda x: x['title']).distinct().reduce(lambda x,y: x if (len(x)<len(y)) else y)\n",
        "print(min_title)"
      ],
      "metadata": {
        "id": "8XCu3LUig0wY"
      },
      "execution_count": null,
      "outputs": []
    },
    {
      "cell_type": "code",
      "source": [
        "# max title\n",
        "max_title = rdd.map(lambda x: x['title']).distinct().reduce(lambda x,y: x if (len(x)>len(y)) else y)\n",
        "print(max_title)"
      ],
      "metadata": {
        "id": "xLc_bXFXjQN1"
      },
      "execution_count": null,
      "outputs": []
    },
    {
      "cell_type": "code",
      "source": [
        "import re"
      ],
      "metadata": {
        "id": "PC4nAbw8SasO"
      },
      "execution_count": null,
      "outputs": []
    },
    {
      "cell_type": "code",
      "source": [
        "# find abbreeviations with 5 or more letters in the \"abstract\" column\n",
        "# exept : [^_! /\\\\:;&#,~<>]\n",
        "regx = r\"\\((\\w[^_! /\\\\:;&#,~?${}<>]{5,})\\)\""
      ],
      "metadata": {
        "id": "fbuj2OZxjVpq"
      },
      "execution_count": null,
      "outputs": []
    },
    {
      "cell_type": "code",
      "source": [
        "print(re.search(regx, \"of the Large Hadron\\nCollider (LHCOPS)\"))"
      ],
      "metadata": {
        "id": "mxbJE6yiMRV-"
      },
      "execution_count": null,
      "outputs": []
    },
    {
      "cell_type": "code",
      "source": [
        "\n",
        "rdd.filter(lambda x: re.search(regx, x['abstract'])).count()"
      ],
      "metadata": {
        "id": "PTjuCEg7P8Uz"
      },
      "execution_count": null,
      "outputs": []
    },
    {
      "cell_type": "code",
      "source": [
        "import re\n",
        "rdd.filter(lambda x: re.search(regx, x['abstract'])).collect()"
      ],
      "metadata": {
        "id": "cGLSXMer4nsb"
      },
      "execution_count": null,
      "outputs": []
    },
    {
      "cell_type": "code",
      "source": [
        "# Number of archive per month\n",
        "rdd.map(lambda x: (x['update_date'][5:7], 1)).reduceByKey(lambda x,y: x+y).collect()"
      ],
      "metadata": {
        "id": "qUKoKM3oNHqy"
      },
      "execution_count": null,
      "outputs": []
    },
    {
      "cell_type": "code",
      "source": [
        "from datetime import datetime\n",
        "\n",
        "def extract_date(line):\n",
        "  d = datetime.strptime(line, '%Y-%m-%d')\n",
        "  return d.month\n",
        "\n",
        "extract_date(\"2008-12-20\")"
      ],
      "metadata": {
        "id": "zFvbTm_OZojM"
      },
      "execution_count": null,
      "outputs": []
    },
    {
      "cell_type": "code",
      "source": [
        "# Number of archive per month\n",
        "rdd.map(lambda x: (extract_date(x['update_date']), 1)).reduceByKey(lambda x,y: x+y).collect()"
      ],
      "metadata": {
        "id": "w3OazEHYddz5"
      },
      "execution_count": null,
      "outputs": []
    },
    {
      "cell_type": "code",
      "source": [
        "# the average number of pages\n",
        "# in comments column\n",
        "# extract only the number be carefull with \"None\" value\n",
        "pages = \"pages\"\n",
        "\n",
        "def extract_num_pages(comments):\n",
        "  regex = r\"(\\d+ pages)\"\n",
        "  r = re.findall(regex, comments)\n",
        "  if r:\n",
        "   return int(r.split(' ')[0])\n",
        "  return 0\n",
        "\n",
        "extract_num_pages(\"Extensively revised version. In the revised version, we have\\n  discussed the effect of viscosity on (quark) transverse momentum distribution\\n  and on elliptic flow. It was shown that elliptic flow saturates due to\\n  non-equilirium correction to the equilibrium distribution function and can\\n  not be mimicked by ideal dynamics. 15 pages, 16 figures\")"
      ],
      "metadata": {
        "id": "FqFg6nc7d2vL"
      },
      "execution_count": null,
      "outputs": []
    },
    {
      "cell_type": "code",
      "source": [
        "rdd.map(lambda x: (x[\"comments\"],extract_num_pages(x[\"comments\"]))).collect()"
      ],
      "metadata": {
        "id": "P-EZ6ZDblYLw"
      },
      "execution_count": null,
      "outputs": []
    },
    {
      "cell_type": "code",
      "source": [
        "rdd.map(lambda x: extract_num_pages(x['comments'])).mean()"
      ],
      "metadata": {
        "id": "Z6nqZpvfvkpS"
      },
      "execution_count": null,
      "outputs": []
    },
    {
      "cell_type": "code",
      "source": [
        "# Number archive per year/month by created archive"
      ],
      "metadata": {
        "id": "_MxwQJg_fvXp"
      },
      "execution_count": null,
      "outputs": []
    },
    {
      "cell_type": "code",
      "source": [],
      "metadata": {
        "id": "k-RdIz5vaULE"
      },
      "execution_count": null,
      "outputs": []
    },
    {
      "cell_type": "code",
      "source": [
        "!git status"
      ],
      "metadata": {
        "id": "OWKUGdjyZnXq"
      },
      "execution_count": null,
      "outputs": []
    },
    {
      "cell_type": "code",
      "source": [
        "!git commit  -a"
      ],
      "metadata": {
        "id": "CE23sOj3e7v5"
      },
      "execution_count": null,
      "outputs": []
    },
    {
      "cell_type": "code",
      "source": [
        "!git add PysparkAdvanced/ && git commit -m \"add file\" && git push origin main"
      ],
      "metadata": {
        "id": "pSsNZEU3ZuVL"
      },
      "execution_count": null,
      "outputs": []
    },
    {
      "cell_type": "code",
      "source": [
        "! cat /content/PysparkAdvanced/.git/config"
      ],
      "metadata": {
        "id": "kRS7_Uc0aC-Y"
      },
      "execution_count": null,
      "outputs": []
    },
    {
      "cell_type": "code",
      "source": [
        "%%sh\n",
        "echo '[core]\n",
        "\trepositoryformatversion = 0\n",
        "\tfilemode = true\n",
        "\tbare = false\n",
        "\tlogallrefupdates = true\n",
        "[remote \"origin\"]\n",
        "\turl = https://github.com/zacSimo/PysparkAdvanced.git\n",
        "\tfetch = +refs/heads/*:refs/remotes/origin/*\n",
        "[branch \"main\"]\n",
        "\tremote = origin\n",
        "\tmerge = refs/heads/main\n",
        "[user]\n",
        "  email = zsimale@gmail.com\n",
        "  password = Simalone1' > /content/PysparkAdvanced/.git/config"
      ],
      "metadata": {
        "id": "Fdm-iGw0araG"
      },
      "execution_count": null,
      "outputs": []
    },
    {
      "cell_type": "code",
      "source": [],
      "metadata": {
        "id": "_d0tg4aZbrhN"
      },
      "execution_count": null,
      "outputs": []
    }
  ]
}